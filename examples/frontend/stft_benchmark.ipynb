{
 "cells": [
  {
   "cell_type": "code",
   "execution_count": 3,
   "id": "9fd114aa-22b4-4b42-848e-7c48e01ca718",
   "metadata": {
    "tags": []
   },
   "outputs": [
    {
     "name": "stdout",
     "output_type": "stream",
     "text": [
      "/home/bernie40916/Nas/home/Project/DJtransGAN\n"
     ]
    }
   ],
   "source": [
    "import os\n",
    "if 'note' in os.getcwd(): os.chdir('../')\n",
    "print(os.getcwd())\n",
    "\n",
    "import warnings\n",
    "warnings.filterwarnings('ignore')"
   ]
  },
  {
   "cell_type": "code",
   "execution_count": 15,
   "id": "1078b994-bf63-4d45-b444-4895c9b1583a",
   "metadata": {},
   "outputs": [],
   "source": [
    "import time\n",
    "import torch\n",
    "\n",
    "from djtransgan.config         import settings\n",
    "from djtransgan.utils.utils    import purify_device\n",
    "from djtransgan.frontend.utils import get_amp2db_func, get_stft_func\n",
    "from djtransgan.utils.noise    import generate_noise"
   ]
  },
  {
   "cell_type": "markdown",
   "id": "1811935e-d83e-4c32-90b4-26f5f7a8abc0",
   "metadata": {},
   "source": [
    "### Helper Function to Test Differentiability"
   ]
  },
  {
   "cell_type": "code",
   "execution_count": 16,
   "id": "c59a811c-dc31-4820-a9a0-9abc26449ca2",
   "metadata": {},
   "outputs": [],
   "source": [
    "def add_gard_requires(params):\n",
    "    if isinstance(params, tuple):\n",
    "        return tuple([param.requires_grad_(True)])\n",
    "    elif isinstance(params, list):\n",
    "        return [param.requires_grad_(True)]\n",
    "    else:\n",
    "        return params.requires_grad_(True)\n",
    "    \n",
    "    \n",
    "def fake_backward(data):\n",
    "    return data.backward(torch.ones_like(data))\n",
    "\n",
    "\n",
    "def stft_diff_test(data, stft):\n",
    "    d    = add_gard_requires(torch.clone(data))\n",
    "    m, p = stft(d)\n",
    "    fake_backward(m)\n",
    "    return d.grad\n",
    "\n",
    "\n",
    "def istft_diff_test(data, stft):\n",
    "    m, p = stft(torch.clone(data))\n",
    "    mg   = add_gard_requires(m)\n",
    "    s = stft.inverse(mg, p)\n",
    "    fake_backward(s)\n",
    "    return mg.grad"
   ]
  },
  {
   "cell_type": "markdown",
   "id": "3d81c7e0-cd84-42b0-b71d-182a06885be6",
   "metadata": {},
   "source": [
    "### Data Preparation"
   ]
  },
  {
   "cell_type": "code",
   "execution_count": 17,
   "id": "fb2d463d-d1d1-4449-868a-519fa559b76f",
   "metadata": {},
   "outputs": [
    {
     "name": "stdout",
     "output_type": "stream",
     "text": [
      "size:  torch.Size([4, 1, 1323000])\n"
     ]
    }
   ],
   "source": [
    "batch_size = 4\n",
    "times      = 30\n",
    "waves      = torch.stack([generate_noise(times).unsqueeze(0) for batch in range(batch_size)])\n",
    "\n",
    "print('size: ', waves.size())"
   ]
  },
  {
   "cell_type": "markdown",
   "id": "a0f58429-03b8-490b-9c17-049787ee97dc",
   "metadata": {},
   "source": [
    "### NNAudio"
   ]
  },
  {
   "cell_type": "code",
   "execution_count": 21,
   "id": "34a370dc-bf4f-40b2-a27f-625ebaac026d",
   "metadata": {},
   "outputs": [
    {
     "name": "stdout",
     "output_type": "stream",
     "text": [
      "STFT kernels created, time used = 0.1894 seconds\n",
      "==================================================\n",
      "STFT Grad:  True\n",
      "STFT Time:  0.8163197040557861\n",
      "ISTFT Grad:  True\n",
      "ISTFT Time:  5.596508502960205\n"
     ]
    }
   ],
   "source": [
    "nnaudio_stft = get_stft_func(stype='nnaudio', length=waves.size(-1))\n",
    "print('=' * 50)\n",
    "\n",
    "start_time   = time.time()\n",
    "stft_grad    = stft_diff_test(waves, nnaudio_stft)\n",
    "end_time     = time.time()\n",
    "\n",
    "print('STFT Grad: ', stft_grad is not None)\n",
    "print('STFT Time: ', end_time - start_time)\n",
    "\n",
    "start_time   = time.time()\n",
    "istft_grad   = istft_diff_test(waves, nnaudio_stft)\n",
    "end_time     = time.time()\n",
    "\n",
    "print('ISTFT Grad: ', istft_grad is not None)\n",
    "print('ISTFT Time: ', end_time - start_time)"
   ]
  },
  {
   "cell_type": "markdown",
   "id": "401127b5-14aa-4e3d-9340-573cf917d693",
   "metadata": {},
   "source": [
    "### AsteroidSTFT"
   ]
  },
  {
   "cell_type": "code",
   "execution_count": 22,
   "id": "94b49725-a0d1-4a2f-8115-55f4b5c5f037",
   "metadata": {},
   "outputs": [
    {
     "name": "stdout",
     "output_type": "stream",
     "text": [
      "STFT kernels created, time used = 0.1729 seconds\n",
      "==================================================\n",
      "STFT Grad:  True\n",
      "STFT Time:  0.9932258129119873\n",
      "ISTFT Grad:  True\n",
      "ISTFT Time:  1.6749699115753174\n"
     ]
    }
   ],
   "source": [
    "asteroid_stft = get_stft_func(stype='asteroid', length=waves.size(-1))\n",
    "print('=' * 50)\n",
    "\n",
    "start_time   = time.time()\n",
    "stft_grad    = stft_diff_test(waves, asteroid_stft)\n",
    "end_time     = time.time()\n",
    "\n",
    "print('STFT Grad: ', stft_grad is not None)\n",
    "print('STFT Time: ', end_time - start_time)\n",
    "\n",
    "start_time   = time.time()\n",
    "istft_grad   = istft_diff_test(waves, asteroid_stft)\n",
    "end_time     = time.time()\n",
    "\n",
    "print('ISTFT Grad: ', istft_grad is not None)\n",
    "print('ISTFT Time: ', end_time - start_time)"
   ]
  },
  {
   "cell_type": "markdown",
   "id": "32835cec-1965-492f-9c83-32f48f62f45a",
   "metadata": {},
   "source": [
    "### TorchLibrosa"
   ]
  },
  {
   "cell_type": "code",
   "execution_count": 23,
   "id": "b997bc8f-a6fa-4e01-ae98-70a1a52e03e2",
   "metadata": {},
   "outputs": [
    {
     "name": "stdout",
     "output_type": "stream",
     "text": [
      "STFT kernels created, time used = 0.2103 seconds\n",
      "==================================================\n",
      "STFT Grad:  True\n",
      "STFT Time:  0.8302221298217773\n",
      "ISTFT Grad:  True\n",
      "ISTFT Time:  1.4559872150421143\n"
     ]
    }
   ],
   "source": [
    "torchlibrosa_stft = get_stft_func(stype='torchlibrosa', length=waves.size(-1))\n",
    "\n",
    "print('=' * 50)\n",
    "\n",
    "start_time   = time.time()\n",
    "stft_grad    = stft_diff_test(waves, torchlibrosa_stft)\n",
    "end_time     = time.time()\n",
    "\n",
    "print('STFT Grad: ', stft_grad is not None)\n",
    "print('STFT Time: ', end_time - start_time)\n",
    "\n",
    "start_time   = time.time()\n",
    "istft_grad   = istft_diff_test(waves, torchlibrosa_stft)\n",
    "end_time     = time.time()\n",
    "\n",
    "print('ISTFT Grad: ', istft_grad is not None)\n",
    "print('ISTFT Time: ', end_time - start_time)"
   ]
  }
 ],
 "metadata": {
  "kernelspec": {
   "display_name": "trans",
   "language": "python",
   "name": "trans"
  },
  "language_info": {
   "codemirror_mode": {
    "name": "ipython",
    "version": 3
   },
   "file_extension": ".py",
   "mimetype": "text/x-python",
   "name": "python",
   "nbconvert_exporter": "python",
   "pygments_lexer": "ipython3",
   "version": "3.8.8"
  }
 },
 "nbformat": 4,
 "nbformat_minor": 5
}
